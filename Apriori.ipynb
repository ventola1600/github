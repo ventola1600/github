{
 "cells": [
  {
   "cell_type": "code",
   "execution_count": 94,
   "metadata": {
    "collapsed": true
   },
   "outputs": [],
   "source": [
    "def loadDataSet():\n",
    "    return [[1,3,4],[2,3,5],[1,2,3,5],[2,5]]\n",
    "\n",
    "# 要求：将数组的元素提取出来并进行排序\n",
    "# 方法：2个遍历1个sort\n",
    "def creatC1(dataSet):\n",
    "    C1=[]\n",
    "    for transaction in dataSet:\n",
    "        for item in transaction:\n",
    "            if not [item] in C1:\n",
    "                C1.append([item])             #python中不能使用一个整数做为集合，因此这里采用列表\n",
    "    C1.sort()\n",
    "    return map(frozenset,C1)   \n",
    "\n",
    "# 统计C1中每个元素在数据集D中出现的次数，并将次数超过最小支持度的返回\n",
    "def scanD(D,Ck,minSupport):\n",
    "    ssCnt = {}\n",
    "    for tid in D:\n",
    "        for can in Ck:\n",
    "            if can.issubset(tid):\n",
    "                if not ssCnt.has_key(can):\n",
    "                    ssCnt[can] = 1\n",
    "                else:\n",
    "                    ssCnt[can] +=1\n",
    "    numItems = float(len(D))\n",
    "    retList = []\n",
    "    supportData = {}\n",
    "    for key in ssCnt:\n",
    "        support = ssCnt[key]/numItems\n",
    "        if support >= minSupport:\n",
    "            retList.insert(0,key)\n",
    "        supportData[key] = support\n",
    "    return retList, supportData\n",
    "\n",
    "# 创建候选集，举例：输入{1}，{2}，{3}，输出{1,2}，{1,3}，{2,3}\n",
    "def aprioriGen(Lk,k):\n",
    "    retList = []\n",
    "    lenLk = len(Lk)\n",
    "    for i in range(lenLk):\n",
    "        for j in range(i+1,lenLk):\n",
    "            L1 = list(Lk[i])[:k-2]\n",
    "            L2 = list(Lk[j])[:k-2]\n",
    "            L1.sort()\n",
    "            L2.sort()\n",
    "            if L1==L2:\n",
    "                retList.append(Lk[i]|Lk[j])\n",
    "    return retList"
   ]
  },
  {
   "cell_type": "code",
   "execution_count": 106,
   "metadata": {
    "collapsed": false
   },
   "outputs": [],
   "source": [
    "def apriori(dataSet,minSupport = 0.5):\n",
    "    C1 = creatC1(dataSet)\n",
    "    D = map(set,dataSet)\n",
    "    L1,supportData = scanD(D,C1,minSupport)\n",
    "    print \"L1 = \" + str(L1)\n",
    "    print \"supportData = \" + str(supportData)\n",
    "    L = [L1]\n",
    "    k = 2\n",
    "    while (len(L[k-2])>0):\n",
    "        print \"k = \" + str(k)\n",
    "        print \"L[k-2] = \" + str(L[k-2])\n",
    "        Ck = aprioriGen(L[k-2],k)\n",
    "        print \"Ck = \" + str(Ck)\n",
    "        Lk,supK = scanD(D,Ck,minSupport)\n",
    "        print \"Lk = \" + str(Lk)\n",
    "        print \"supK = \" + str(supK)\n",
    "        supportData.update(supK)\n",
    "        print \"supportData.updata = \" + str(supportData)\n",
    "        L.append(Lk)\n",
    "        print \"L = \" + str(L)\n",
    "        k+=1\n",
    "    return L, supportData"
   ]
  },
  {
   "cell_type": "code",
   "execution_count": 107,
   "metadata": {
    "collapsed": false
   },
   "outputs": [
    {
     "name": "stdout",
     "output_type": "stream",
     "text": [
      "L1 = [frozenset([1]), frozenset([3]), frozenset([2]), frozenset([5])]\n",
      "supportData = {frozenset([4]): 0.25, frozenset([5]): 0.75, frozenset([2]): 0.75, frozenset([3]): 0.75, frozenset([1]): 0.5}\n",
      "k = 2\n",
      "L[k-2] = [frozenset([1]), frozenset([3]), frozenset([2]), frozenset([5])]\n",
      "Ck = [frozenset([1, 3]), frozenset([1, 2]), frozenset([1, 5]), frozenset([2, 3]), frozenset([3, 5]), frozenset([2, 5])]\n",
      "Lk = [frozenset([1, 3]), frozenset([2, 5]), frozenset([2, 3]), frozenset([3, 5])]\n",
      "supK = {frozenset([1, 2]): 0.25, frozenset([1, 5]): 0.25, frozenset([3, 5]): 0.5, frozenset([2, 3]): 0.5, frozenset([2, 5]): 0.75, frozenset([1, 3]): 0.5}\n",
      "supportData.updata = {frozenset([5]): 0.75, frozenset([3]): 0.75, frozenset([1, 2]): 0.25, frozenset([1, 5]): 0.25, frozenset([3, 5]): 0.5, frozenset([4]): 0.25, frozenset([2, 3]): 0.5, frozenset([2, 5]): 0.75, frozenset([1]): 0.5, frozenset([1, 3]): 0.5, frozenset([2]): 0.75}\n",
      "L = [[frozenset([1]), frozenset([3]), frozenset([2]), frozenset([5])], [frozenset([1, 3]), frozenset([2, 5]), frozenset([2, 3]), frozenset([3, 5])]]\n",
      "k = 3\n",
      "L[k-2] = [frozenset([1, 3]), frozenset([2, 5]), frozenset([2, 3]), frozenset([3, 5])]\n",
      "Ck = [frozenset([2, 3, 5])]\n",
      "Lk = [frozenset([2, 3, 5])]\n",
      "supK = {frozenset([2, 3, 5]): 0.5}\n",
      "supportData.updata = {frozenset([5]): 0.75, frozenset([3]): 0.75, frozenset([2, 3, 5]): 0.5, frozenset([1, 2]): 0.25, frozenset([1, 5]): 0.25, frozenset([3, 5]): 0.5, frozenset([4]): 0.25, frozenset([2, 3]): 0.5, frozenset([2, 5]): 0.75, frozenset([1]): 0.5, frozenset([1, 3]): 0.5, frozenset([2]): 0.75}\n",
      "L = [[frozenset([1]), frozenset([3]), frozenset([2]), frozenset([5])], [frozenset([1, 3]), frozenset([2, 5]), frozenset([2, 3]), frozenset([3, 5])], [frozenset([2, 3, 5])]]\n",
      "k = 4\n",
      "L[k-2] = [frozenset([2, 3, 5])]\n",
      "Ck = []\n",
      "Lk = []\n",
      "supK = {}\n",
      "supportData.updata = {frozenset([5]): 0.75, frozenset([3]): 0.75, frozenset([2, 3, 5]): 0.5, frozenset([1, 2]): 0.25, frozenset([1, 5]): 0.25, frozenset([3, 5]): 0.5, frozenset([4]): 0.25, frozenset([2, 3]): 0.5, frozenset([2, 5]): 0.75, frozenset([1]): 0.5, frozenset([1, 3]): 0.5, frozenset([2]): 0.75}\n",
      "L = [[frozenset([1]), frozenset([3]), frozenset([2]), frozenset([5])], [frozenset([1, 3]), frozenset([2, 5]), frozenset([2, 3]), frozenset([3, 5])], [frozenset([2, 3, 5])], []]\n"
     ]
    }
   ],
   "source": [
    "dataSet = loadDataSet()\n",
    "L,suppData = apriori(dataSet)"
   ]
  },
  {
   "cell_type": "code",
   "execution_count": null,
   "metadata": {
    "collapsed": true
   },
   "outputs": [],
   "source": []
  },
  {
   "cell_type": "code",
   "execution_count": 93,
   "metadata": {
    "collapsed": false
   },
   "outputs": [
    {
     "data": {
      "text/plain": [
       "{frozenset({5}): 0.75,\n",
       " frozenset({3}): 0.75,\n",
       " frozenset({2, 3, 5}): 0.5,\n",
       " frozenset({1, 2}): 0.25,\n",
       " frozenset({1, 5}): 0.25,\n",
       " frozenset({3, 5}): 0.5,\n",
       " frozenset({4}): 0.25,\n",
       " frozenset({2, 3}): 0.5,\n",
       " frozenset({2, 5}): 0.75,\n",
       " frozenset({1}): 0.5,\n",
       " frozenset({1, 3}): 0.5,\n",
       " frozenset({2}): 0.75}"
      ]
     },
     "execution_count": 93,
     "metadata": {},
     "output_type": "execute_result"
    }
   ],
   "source": [
    "suppData"
   ]
  },
  {
   "cell_type": "code",
   "execution_count": 97,
   "metadata": {
    "collapsed": false
   },
   "outputs": [
    {
     "data": {
      "text/plain": [
       "[[frozenset({1}), frozenset({3}), frozenset({2}), frozenset({5})],\n",
       " [frozenset({1, 3}), frozenset({2, 5}), frozenset({2, 3}), frozenset({3, 5})],\n",
       " [frozenset({2, 3, 5})],\n",
       " []]"
      ]
     },
     "execution_count": 97,
     "metadata": {},
     "output_type": "execute_result"
    }
   ],
   "source": [
    "L"
   ]
  },
  {
   "cell_type": "code",
   "execution_count": 103,
   "metadata": {
    "collapsed": false
   },
   "outputs": [
    {
     "data": {
      "text/plain": [
       "{1, 2, 3}"
      ]
     },
     "execution_count": 103,
     "metadata": {},
     "output_type": "execute_result"
    }
   ],
   "source": [
    "a = [1,2]\n",
    "a = set(a)\n",
    "b = [1,3]\n",
    "b = set(b)\n",
    "a|b"
   ]
  },
  {
   "cell_type": "code",
   "execution_count": null,
   "metadata": {
    "collapsed": true
   },
   "outputs": [],
   "source": []
  }
 ],
 "metadata": {
  "kernelspec": {
   "display_name": "Python 2",
   "language": "python",
   "name": "python2"
  },
  "language_info": {
   "codemirror_mode": {
    "name": "ipython",
    "version": 2
   },
   "file_extension": ".py",
   "mimetype": "text/x-python",
   "name": "python",
   "nbconvert_exporter": "python",
   "pygments_lexer": "ipython2",
   "version": "2.7.5"
  }
 },
 "nbformat": 4,
 "nbformat_minor": 1
}
